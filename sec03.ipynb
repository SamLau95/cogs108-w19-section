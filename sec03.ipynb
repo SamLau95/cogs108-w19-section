{
 "cells": [
  {
   "cell_type": "markdown",
   "metadata": {},
   "source": [
    "# Section 3"
   ]
  },
  {
   "cell_type": "code",
   "execution_count": 1,
   "metadata": {},
   "outputs": [],
   "source": [
    "# HIDDEN\n",
    "import warnings\n",
    "# Ignore numpy dtype warnings. These warnings are caused by an interaction\n",
    "# between numpy and Cython and can be safely ignored.\n",
    "# Reference: https://stackoverflow.com/a/40846742\n",
    "warnings.filterwarnings(\"ignore\", message=\"numpy.dtype size changed\")\n",
    "warnings.filterwarnings(\"ignore\", message=\"numpy.ufunc size changed\")\n",
    "\n",
    "import numpy as np\n",
    "import matplotlib.pyplot as plt\n",
    "import pandas as pd\n",
    "import seaborn as sns\n",
    "%matplotlib inline\n",
    "import ipywidgets as widgets\n",
    "from ipywidgets import interact, interactive, fixed, interact_manual\n",
    "import nbinteract as nbi\n",
    "\n",
    "sns.set()\n",
    "sns.set_context('talk')\n",
    "np.set_printoptions(threshold=20, precision=2, suppress=True)\n",
    "pd.options.display.max_rows = 7\n",
    "pd.options.display.max_columns = 8\n",
    "pd.set_option('precision', 2)\n",
    "# This option stops scientific notation for pandas\n",
    "# pd.set_option('display.float_format', '{:.2f}'.format)"
   ]
  },
  {
   "cell_type": "code",
   "execution_count": null,
   "metadata": {},
   "outputs": [],
   "source": []
  },
  {
   "cell_type": "markdown",
   "metadata": {},
   "source": [
    "## numpy"
   ]
  },
  {
   "cell_type": "code",
   "execution_count": 2,
   "metadata": {},
   "outputs": [
    {
     "data": {
      "text/plain": [
       "array([20,  3,  0, -6])"
      ]
     },
     "execution_count": 2,
     "metadata": {},
     "output_type": "execute_result"
    }
   ],
   "source": [
    "import numpy as np\n",
    "\n",
    "foo = np.array([20, 3, 0, -6])\n",
    "foo"
   ]
  },
  {
   "cell_type": "code",
   "execution_count": 9,
   "metadata": {},
   "outputs": [
    {
     "data": {
      "text/plain": [
       "array([400,   9,   0,  36])"
      ]
     },
     "execution_count": 9,
     "metadata": {},
     "output_type": "execute_result"
    }
   ],
   "source": [
    "foo ** 2"
   ]
  },
  {
   "cell_type": "code",
   "execution_count": 14,
   "metadata": {},
   "outputs": [],
   "source": [
    "foo = 20"
   ]
  },
  {
   "cell_type": "code",
   "execution_count": 15,
   "metadata": {},
   "outputs": [
    {
     "data": {
      "text/plain": [
       "False"
      ]
     },
     "execution_count": 15,
     "metadata": {},
     "output_type": "execute_result"
    }
   ],
   "source": [
    "foo % 2 == 1"
   ]
  },
  {
   "cell_type": "code",
   "execution_count": 6,
   "metadata": {},
   "outputs": [
    {
     "data": {
      "text/plain": [
       "array([20,  3,  0, -6])"
      ]
     },
     "execution_count": 6,
     "metadata": {},
     "output_type": "execute_result"
    }
   ],
   "source": [
    "foo"
   ]
  },
  {
   "cell_type": "code",
   "execution_count": null,
   "metadata": {},
   "outputs": [],
   "source": []
  },
  {
   "cell_type": "code",
   "execution_count": null,
   "metadata": {},
   "outputs": [],
   "source": []
  },
  {
   "cell_type": "code",
   "execution_count": null,
   "metadata": {},
   "outputs": [],
   "source": []
  },
  {
   "cell_type": "code",
   "execution_count": 3,
   "metadata": {},
   "outputs": [
    {
     "data": {
      "text/plain": [
       "[20, 3, 0, -6]"
      ]
     },
     "execution_count": 3,
     "metadata": {},
     "output_type": "execute_result"
    }
   ],
   "source": [
    "bar = [20, 3, 0, -6]\n",
    "bar"
   ]
  },
  {
   "cell_type": "code",
   "execution_count": 10,
   "metadata": {},
   "outputs": [
    {
     "ename": "TypeError",
     "evalue": "can only concatenate list (not \"int\") to list",
     "output_type": "error",
     "traceback": [
      "\u001b[0;31m---------------------------------------------------------------------------\u001b[0m",
      "\u001b[0;31mTypeError\u001b[0m                                 Traceback (most recent call last)",
      "\u001b[0;32m<ipython-input-10-8dc614db8643>\u001b[0m in \u001b[0;36m<module>\u001b[0;34m()\u001b[0m\n\u001b[0;32m----> 1\u001b[0;31m \u001b[0mbar\u001b[0m \u001b[0;34m+\u001b[0m \u001b[0;36m5\u001b[0m\u001b[0;34m\u001b[0m\u001b[0;34m\u001b[0m\u001b[0m\n\u001b[0m",
      "\u001b[0;31mTypeError\u001b[0m: can only concatenate list (not \"int\") to list"
     ]
    }
   ],
   "source": [
    "bar + 5"
   ]
  },
  {
   "cell_type": "code",
   "execution_count": null,
   "metadata": {},
   "outputs": [],
   "source": []
  },
  {
   "cell_type": "markdown",
   "metadata": {},
   "source": [
    "`numpy` is fast:"
   ]
  },
  {
   "cell_type": "code",
   "execution_count": 24,
   "metadata": {},
   "outputs": [
    {
     "name": "stdout",
     "output_type": "stream",
     "text": [
      "84.5 µs ± 4.64 µs per loop (mean ± std. dev. of 7 runs, 10000 loops each)\n"
     ]
    }
   ],
   "source": [
    "%%timeit\n",
    "\n",
    "long_array = np.arange(0, 100_000)\n",
    "long_array ** 2"
   ]
  },
  {
   "cell_type": "code",
   "execution_count": 25,
   "metadata": {
    "scrolled": true
   },
   "outputs": [
    {
     "name": "stdout",
     "output_type": "stream",
     "text": [
      "36.8 ms ± 1.52 ms per loop (mean ± std. dev. of 7 runs, 10 loops each)\n"
     ]
    }
   ],
   "source": [
    "%%timeit\n",
    "\n",
    "long_list = []\n",
    "for i in range(0, 100_000):\n",
    "    long_list.append(i ** 2)"
   ]
  },
  {
   "cell_type": "code",
   "execution_count": 26,
   "metadata": {},
   "outputs": [
    {
     "name": "stdout",
     "output_type": "stream",
     "text": [
      "numpy is 435.50 times faster!\n"
     ]
    }
   ],
   "source": [
    "print(f'numpy is {36.8 * 1000 / 84.5:.2f} times faster!')"
   ]
  },
  {
   "cell_type": "markdown",
   "metadata": {},
   "source": [
    "## pandas"
   ]
  },
  {
   "cell_type": "code",
   "execution_count": 16,
   "metadata": {},
   "outputs": [
    {
     "data": {
      "text/html": [
       "<div>\n",
       "<style scoped>\n",
       "    .dataframe tbody tr th:only-of-type {\n",
       "        vertical-align: middle;\n",
       "    }\n",
       "\n",
       "    .dataframe tbody tr th {\n",
       "        vertical-align: top;\n",
       "    }\n",
       "\n",
       "    .dataframe thead th {\n",
       "        text-align: right;\n",
       "    }\n",
       "</style>\n",
       "<table border=\"1\" class=\"dataframe\">\n",
       "  <thead>\n",
       "    <tr style=\"text-align: right;\">\n",
       "      <th></th>\n",
       "      <th>plate</th>\n",
       "      <th>time</th>\n",
       "      <th>location</th>\n",
       "    </tr>\n",
       "  </thead>\n",
       "  <tbody>\n",
       "    <tr>\n",
       "      <th>0</th>\n",
       "      <td>1275226</td>\n",
       "      <td>01/19/2011 02:06:00 AM</td>\n",
       "      <td>(37.798304999999999, -122.27574799999999)</td>\n",
       "    </tr>\n",
       "    <tr>\n",
       "      <th>1</th>\n",
       "      <td>27529C</td>\n",
       "      <td>01/19/2011 02:06:00 AM</td>\n",
       "      <td>(37.798304999999999, -122.27574799999999)</td>\n",
       "    </tr>\n",
       "    <tr>\n",
       "      <th>2</th>\n",
       "      <td>1158423</td>\n",
       "      <td>01/19/2011 02:06:00 AM</td>\n",
       "      <td>(37.798304999999999, -122.27574799999999)</td>\n",
       "    </tr>\n",
       "    <tr>\n",
       "      <th>...</th>\n",
       "      <td>...</td>\n",
       "      <td>...</td>\n",
       "      <td>...</td>\n",
       "    </tr>\n",
       "    <tr>\n",
       "      <th>2742098</th>\n",
       "      <td>5X10319</td>\n",
       "      <td>12/19/2013 08:28:00 PM</td>\n",
       "      <td>(37.804148, -122.284861)</td>\n",
       "    </tr>\n",
       "    <tr>\n",
       "      <th>2742099</th>\n",
       "      <td>7D56240</td>\n",
       "      <td>12/19/2013 08:28:00 PM</td>\n",
       "      <td>(37.804096, -122.284635)</td>\n",
       "    </tr>\n",
       "    <tr>\n",
       "      <th>2742100</th>\n",
       "      <td>6JNM127</td>\n",
       "      <td>12/19/2013 08:28:00 PM</td>\n",
       "      <td>(37.80397, -122.284046)</td>\n",
       "    </tr>\n",
       "  </tbody>\n",
       "</table>\n",
       "<p>2742101 rows × 3 columns</p>\n",
       "</div>"
      ],
      "text/plain": [
       "           plate                    time  \\\n",
       "0        1275226  01/19/2011 02:06:00 AM   \n",
       "1         27529C  01/19/2011 02:06:00 AM   \n",
       "2        1158423  01/19/2011 02:06:00 AM   \n",
       "...          ...                     ...   \n",
       "2742098  5X10319  12/19/2013 08:28:00 PM   \n",
       "2742099  7D56240  12/19/2013 08:28:00 PM   \n",
       "2742100  6JNM127  12/19/2013 08:28:00 PM   \n",
       "\n",
       "                                          location  \n",
       "0        (37.798304999999999, -122.27574799999999)  \n",
       "1        (37.798304999999999, -122.27574799999999)  \n",
       "2        (37.798304999999999, -122.27574799999999)  \n",
       "...                                            ...  \n",
       "2742098                   (37.804148, -122.284861)  \n",
       "2742099                   (37.804096, -122.284635)  \n",
       "2742100                    (37.80397, -122.284046)  \n",
       "\n",
       "[2742101 rows x 3 columns]"
      ]
     },
     "execution_count": 16,
     "metadata": {},
     "output_type": "execute_result"
    }
   ],
   "source": [
    "df = pd.read_csv('all-lprs.csv.gz')\n",
    "df.columns = ['plate', 'time', 'location']\n",
    "df"
   ]
  },
  {
   "cell_type": "code",
   "execution_count": 22,
   "metadata": {},
   "outputs": [
    {
     "data": {
      "text/html": [
       "<div>\n",
       "<style scoped>\n",
       "    .dataframe tbody tr th:only-of-type {\n",
       "        vertical-align: middle;\n",
       "    }\n",
       "\n",
       "    .dataframe tbody tr th {\n",
       "        vertical-align: top;\n",
       "    }\n",
       "\n",
       "    .dataframe thead th {\n",
       "        text-align: right;\n",
       "    }\n",
       "</style>\n",
       "<table border=\"1\" class=\"dataframe\">\n",
       "  <thead>\n",
       "    <tr style=\"text-align: right;\">\n",
       "      <th></th>\n",
       "      <th>time</th>\n",
       "      <th>plate</th>\n",
       "    </tr>\n",
       "  </thead>\n",
       "  <tbody>\n",
       "    <tr>\n",
       "      <th>0</th>\n",
       "      <td>01/19/2011 02:06:00 AM</td>\n",
       "      <td>1275226</td>\n",
       "    </tr>\n",
       "    <tr>\n",
       "      <th>1</th>\n",
       "      <td>01/19/2011 02:06:00 AM</td>\n",
       "      <td>27529C</td>\n",
       "    </tr>\n",
       "    <tr>\n",
       "      <th>2</th>\n",
       "      <td>01/19/2011 02:06:00 AM</td>\n",
       "      <td>1158423</td>\n",
       "    </tr>\n",
       "    <tr>\n",
       "      <th>...</th>\n",
       "      <td>...</td>\n",
       "      <td>...</td>\n",
       "    </tr>\n",
       "    <tr>\n",
       "      <th>2742098</th>\n",
       "      <td>12/19/2013 08:28:00 PM</td>\n",
       "      <td>5X10319</td>\n",
       "    </tr>\n",
       "    <tr>\n",
       "      <th>2742099</th>\n",
       "      <td>12/19/2013 08:28:00 PM</td>\n",
       "      <td>7D56240</td>\n",
       "    </tr>\n",
       "    <tr>\n",
       "      <th>2742100</th>\n",
       "      <td>12/19/2013 08:28:00 PM</td>\n",
       "      <td>6JNM127</td>\n",
       "    </tr>\n",
       "  </tbody>\n",
       "</table>\n",
       "<p>2742101 rows × 2 columns</p>\n",
       "</div>"
      ],
      "text/plain": [
       "                           time    plate\n",
       "0        01/19/2011 02:06:00 AM  1275226\n",
       "1        01/19/2011 02:06:00 AM   27529C\n",
       "2        01/19/2011 02:06:00 AM  1158423\n",
       "...                         ...      ...\n",
       "2742098  12/19/2013 08:28:00 PM  5X10319\n",
       "2742099  12/19/2013 08:28:00 PM  7D56240\n",
       "2742100  12/19/2013 08:28:00 PM  6JNM127\n",
       "\n",
       "[2742101 rows x 2 columns]"
      ]
     },
     "execution_count": 22,
     "metadata": {},
     "output_type": "execute_result"
    }
   ],
   "source": [
    "df.loc[:, ['time', 'plate']]"
   ]
  },
  {
   "cell_type": "code",
   "execution_count": null,
   "metadata": {},
   "outputs": [],
   "source": []
  },
  {
   "cell_type": "code",
   "execution_count": null,
   "metadata": {},
   "outputs": [],
   "source": []
  },
  {
   "cell_type": "code",
   "execution_count": null,
   "metadata": {},
   "outputs": [],
   "source": []
  },
  {
   "cell_type": "code",
   "execution_count": null,
   "metadata": {},
   "outputs": [],
   "source": []
  },
  {
   "cell_type": "code",
   "execution_count": null,
   "metadata": {},
   "outputs": [],
   "source": []
  },
  {
   "cell_type": "code",
   "execution_count": null,
   "metadata": {},
   "outputs": [],
   "source": []
  },
  {
   "cell_type": "code",
   "execution_count": null,
   "metadata": {},
   "outputs": [],
   "source": []
  },
  {
   "cell_type": "code",
   "execution_count": null,
   "metadata": {},
   "outputs": [],
   "source": []
  },
  {
   "cell_type": "code",
   "execution_count": null,
   "metadata": {},
   "outputs": [],
   "source": []
  },
  {
   "cell_type": "code",
   "execution_count": null,
   "metadata": {},
   "outputs": [],
   "source": []
  },
  {
   "cell_type": "markdown",
   "metadata": {},
   "source": [
    "Let's look at previous Oakland Mayor Jean Quan's car. Her license plate is 6FCH845. (How did I learn that? Turns out she was in the news for getting $1000 of parking tickets, and the news article included a picture of her car, with the license plate visible. You'd be amazed by what's out there on the Internet...)"
   ]
  },
  {
   "cell_type": "code",
   "execution_count": 23,
   "metadata": {},
   "outputs": [
    {
     "data": {
      "text/html": [
       "<div>\n",
       "<style scoped>\n",
       "    .dataframe tbody tr th:only-of-type {\n",
       "        vertical-align: middle;\n",
       "    }\n",
       "\n",
       "    .dataframe tbody tr th {\n",
       "        vertical-align: top;\n",
       "    }\n",
       "\n",
       "    .dataframe thead th {\n",
       "        text-align: right;\n",
       "    }\n",
       "</style>\n",
       "<table border=\"1\" class=\"dataframe\">\n",
       "  <thead>\n",
       "    <tr style=\"text-align: right;\">\n",
       "      <th></th>\n",
       "      <th>plate</th>\n",
       "      <th>time</th>\n",
       "      <th>location</th>\n",
       "    </tr>\n",
       "  </thead>\n",
       "  <tbody>\n",
       "    <tr>\n",
       "      <th>0</th>\n",
       "      <td>1275226</td>\n",
       "      <td>01/19/2011 02:06:00 AM</td>\n",
       "      <td>(37.798304999999999, -122.27574799999999)</td>\n",
       "    </tr>\n",
       "    <tr>\n",
       "      <th>1</th>\n",
       "      <td>27529C</td>\n",
       "      <td>01/19/2011 02:06:00 AM</td>\n",
       "      <td>(37.798304999999999, -122.27574799999999)</td>\n",
       "    </tr>\n",
       "    <tr>\n",
       "      <th>2</th>\n",
       "      <td>1158423</td>\n",
       "      <td>01/19/2011 02:06:00 AM</td>\n",
       "      <td>(37.798304999999999, -122.27574799999999)</td>\n",
       "    </tr>\n",
       "    <tr>\n",
       "      <th>...</th>\n",
       "      <td>...</td>\n",
       "      <td>...</td>\n",
       "      <td>...</td>\n",
       "    </tr>\n",
       "    <tr>\n",
       "      <th>2742098</th>\n",
       "      <td>5X10319</td>\n",
       "      <td>12/19/2013 08:28:00 PM</td>\n",
       "      <td>(37.804148, -122.284861)</td>\n",
       "    </tr>\n",
       "    <tr>\n",
       "      <th>2742099</th>\n",
       "      <td>7D56240</td>\n",
       "      <td>12/19/2013 08:28:00 PM</td>\n",
       "      <td>(37.804096, -122.284635)</td>\n",
       "    </tr>\n",
       "    <tr>\n",
       "      <th>2742100</th>\n",
       "      <td>6JNM127</td>\n",
       "      <td>12/19/2013 08:28:00 PM</td>\n",
       "      <td>(37.80397, -122.284046)</td>\n",
       "    </tr>\n",
       "  </tbody>\n",
       "</table>\n",
       "<p>2742101 rows × 3 columns</p>\n",
       "</div>"
      ],
      "text/plain": [
       "           plate                    time  \\\n",
       "0        1275226  01/19/2011 02:06:00 AM   \n",
       "1         27529C  01/19/2011 02:06:00 AM   \n",
       "2        1158423  01/19/2011 02:06:00 AM   \n",
       "...          ...                     ...   \n",
       "2742098  5X10319  12/19/2013 08:28:00 PM   \n",
       "2742099  7D56240  12/19/2013 08:28:00 PM   \n",
       "2742100  6JNM127  12/19/2013 08:28:00 PM   \n",
       "\n",
       "                                          location  \n",
       "0        (37.798304999999999, -122.27574799999999)  \n",
       "1        (37.798304999999999, -122.27574799999999)  \n",
       "2        (37.798304999999999, -122.27574799999999)  \n",
       "...                                            ...  \n",
       "2742098                   (37.804148, -122.284861)  \n",
       "2742099                   (37.804096, -122.284635)  \n",
       "2742100                    (37.80397, -122.284046)  \n",
       "\n",
       "[2742101 rows x 3 columns]"
      ]
     },
     "execution_count": 23,
     "metadata": {},
     "output_type": "execute_result"
    }
   ],
   "source": [
    "df"
   ]
  },
  {
   "cell_type": "code",
   "execution_count": 29,
   "metadata": {
    "scrolled": true
   },
   "outputs": [
    {
     "data": {
      "text/html": [
       "<div>\n",
       "<style scoped>\n",
       "    .dataframe tbody tr th:only-of-type {\n",
       "        vertical-align: middle;\n",
       "    }\n",
       "\n",
       "    .dataframe tbody tr th {\n",
       "        vertical-align: top;\n",
       "    }\n",
       "\n",
       "    .dataframe thead th {\n",
       "        text-align: right;\n",
       "    }\n",
       "</style>\n",
       "<table border=\"1\" class=\"dataframe\">\n",
       "  <thead>\n",
       "    <tr style=\"text-align: right;\">\n",
       "      <th></th>\n",
       "      <th>plate</th>\n",
       "      <th>time</th>\n",
       "      <th>location</th>\n",
       "    </tr>\n",
       "  </thead>\n",
       "  <tbody>\n",
       "    <tr>\n",
       "      <th>0</th>\n",
       "      <td>1275226</td>\n",
       "      <td>01/19/2011 02:06:00 AM</td>\n",
       "      <td>(37.798304999999999, -122.27574799999999)</td>\n",
       "    </tr>\n",
       "    <tr>\n",
       "      <th>2</th>\n",
       "      <td>1158423</td>\n",
       "      <td>01/19/2011 02:06:00 AM</td>\n",
       "      <td>(37.798304999999999, -122.27574799999999)</td>\n",
       "    </tr>\n",
       "    <tr>\n",
       "      <th>3</th>\n",
       "      <td>1273718</td>\n",
       "      <td>01/19/2011 02:06:00 AM</td>\n",
       "      <td>(37.798304999999999, -122.27574799999999)</td>\n",
       "    </tr>\n",
       "  </tbody>\n",
       "</table>\n",
       "</div>"
      ],
      "text/plain": [
       "     plate                    time                                   location\n",
       "0  1275226  01/19/2011 02:06:00 AM  (37.798304999999999, -122.27574799999999)\n",
       "2  1158423  01/19/2011 02:06:00 AM  (37.798304999999999, -122.27574799999999)\n",
       "3  1273718  01/19/2011 02:06:00 AM  (37.798304999999999, -122.27574799999999)"
      ]
     },
     "execution_count": 29,
     "metadata": {},
     "output_type": "execute_result"
    }
   ],
   "source": [
    "df.loc[[True, False, True, True, False], :]"
   ]
  },
  {
   "cell_type": "code",
   "execution_count": 32,
   "metadata": {},
   "outputs": [
    {
     "data": {
      "text/html": [
       "<div>\n",
       "<style scoped>\n",
       "    .dataframe tbody tr th:only-of-type {\n",
       "        vertical-align: middle;\n",
       "    }\n",
       "\n",
       "    .dataframe tbody tr th {\n",
       "        vertical-align: top;\n",
       "    }\n",
       "\n",
       "    .dataframe thead th {\n",
       "        text-align: right;\n",
       "    }\n",
       "</style>\n",
       "<table border=\"1\" class=\"dataframe\">\n",
       "  <thead>\n",
       "    <tr style=\"text-align: right;\">\n",
       "      <th></th>\n",
       "      <th>plate</th>\n",
       "      <th>time</th>\n",
       "      <th>location</th>\n",
       "    </tr>\n",
       "  </thead>\n",
       "  <tbody>\n",
       "    <tr>\n",
       "      <th>1301320</th>\n",
       "      <td>6FCH845</td>\n",
       "      <td>11/01/2012 09:04:00 AM</td>\n",
       "      <td>(37.79871, -122.276221)</td>\n",
       "    </tr>\n",
       "    <tr>\n",
       "      <th>1369630</th>\n",
       "      <td>6FCH845</td>\n",
       "      <td>10/24/2012 11:15:00 AM</td>\n",
       "      <td>(37.799695, -122.274868)</td>\n",
       "    </tr>\n",
       "    <tr>\n",
       "      <th>1369854</th>\n",
       "      <td>6FCH845</td>\n",
       "      <td>10/24/2012 11:01:00 AM</td>\n",
       "      <td>(37.799693, -122.274806)</td>\n",
       "    </tr>\n",
       "    <tr>\n",
       "      <th>1369967</th>\n",
       "      <td>6FCH845</td>\n",
       "      <td>10/24/2012 10:20:00 AM</td>\n",
       "      <td>(37.799735, -122.274893)</td>\n",
       "    </tr>\n",
       "    <tr>\n",
       "      <th>2242582</th>\n",
       "      <td>6FCH845</td>\n",
       "      <td>05/08/2014 07:30:00 PM</td>\n",
       "      <td>(37.797558, -122.26935)</td>\n",
       "    </tr>\n",
       "    <tr>\n",
       "      <th>2648779</th>\n",
       "      <td>6FCH845</td>\n",
       "      <td>12/31/2013 10:09:00 AM</td>\n",
       "      <td>(37.807556, -122.278485)</td>\n",
       "    </tr>\n",
       "  </tbody>\n",
       "</table>\n",
       "</div>"
      ],
      "text/plain": [
       "           plate                    time                  location\n",
       "1301320  6FCH845  11/01/2012 09:04:00 AM   (37.79871, -122.276221)\n",
       "1369630  6FCH845  10/24/2012 11:15:00 AM  (37.799695, -122.274868)\n",
       "1369854  6FCH845  10/24/2012 11:01:00 AM  (37.799693, -122.274806)\n",
       "1369967  6FCH845  10/24/2012 10:20:00 AM  (37.799735, -122.274893)\n",
       "2242582  6FCH845  05/08/2014 07:30:00 PM   (37.797558, -122.26935)\n",
       "2648779  6FCH845  12/31/2013 10:09:00 AM  (37.807556, -122.278485)"
      ]
     },
     "execution_count": 32,
     "metadata": {},
     "output_type": "execute_result"
    }
   ],
   "source": [
    "df.loc[df.loc[:, 'plate'] == '6FCH845', :]"
   ]
  },
  {
   "cell_type": "code",
   "execution_count": null,
   "metadata": {},
   "outputs": [],
   "source": []
  },
  {
   "cell_type": "code",
   "execution_count": null,
   "metadata": {},
   "outputs": [],
   "source": []
  },
  {
   "cell_type": "code",
   "execution_count": 45,
   "metadata": {},
   "outputs": [
    {
     "data": {
      "text/plain": [
       "0          1275226\n",
       "1           27529C\n",
       "2          1158423\n",
       "            ...   \n",
       "2742098    5X10319\n",
       "2742099    7D56240\n",
       "2742100    6JNM127\n",
       "Name: plate, Length: 2742101, dtype: object"
      ]
     },
     "execution_count": 45,
     "metadata": {},
     "output_type": "execute_result"
    }
   ],
   "source": [
    "df.loc[:, 'plate']\n",
    "# df['plate']"
   ]
  },
  {
   "cell_type": "code",
   "execution_count": 19,
   "metadata": {},
   "outputs": [
    {
     "data": {
      "text/plain": [
       "0          False\n",
       "1          False\n",
       "2          False\n",
       "           ...  \n",
       "2742098    False\n",
       "2742099    False\n",
       "2742100    False\n",
       "Name: plate, Length: 2742101, dtype: bool"
      ]
     },
     "execution_count": 19,
     "metadata": {},
     "output_type": "execute_result"
    }
   ],
   "source": [
    "df['plate'] == '6FCH845'"
   ]
  },
  {
   "cell_type": "code",
   "execution_count": 49,
   "metadata": {},
   "outputs": [
    {
     "data": {
      "text/html": [
       "<div>\n",
       "<style scoped>\n",
       "    .dataframe tbody tr th:only-of-type {\n",
       "        vertical-align: middle;\n",
       "    }\n",
       "\n",
       "    .dataframe tbody tr th {\n",
       "        vertical-align: top;\n",
       "    }\n",
       "\n",
       "    .dataframe thead th {\n",
       "        text-align: right;\n",
       "    }\n",
       "</style>\n",
       "<table border=\"1\" class=\"dataframe\">\n",
       "  <thead>\n",
       "    <tr style=\"text-align: right;\">\n",
       "      <th></th>\n",
       "      <th>plate</th>\n",
       "      <th>time</th>\n",
       "    </tr>\n",
       "  </thead>\n",
       "  <tbody>\n",
       "    <tr>\n",
       "      <th>1301320</th>\n",
       "      <td>6FCH845</td>\n",
       "      <td>11/01/2012 09:04:00 AM</td>\n",
       "    </tr>\n",
       "    <tr>\n",
       "      <th>1369630</th>\n",
       "      <td>6FCH845</td>\n",
       "      <td>10/24/2012 11:15:00 AM</td>\n",
       "    </tr>\n",
       "    <tr>\n",
       "      <th>1369854</th>\n",
       "      <td>6FCH845</td>\n",
       "      <td>10/24/2012 11:01:00 AM</td>\n",
       "    </tr>\n",
       "    <tr>\n",
       "      <th>1369967</th>\n",
       "      <td>6FCH845</td>\n",
       "      <td>10/24/2012 10:20:00 AM</td>\n",
       "    </tr>\n",
       "    <tr>\n",
       "      <th>2242582</th>\n",
       "      <td>6FCH845</td>\n",
       "      <td>05/08/2014 07:30:00 PM</td>\n",
       "    </tr>\n",
       "    <tr>\n",
       "      <th>2648779</th>\n",
       "      <td>6FCH845</td>\n",
       "      <td>12/31/2013 10:09:00 AM</td>\n",
       "    </tr>\n",
       "  </tbody>\n",
       "</table>\n",
       "</div>"
      ],
      "text/plain": [
       "           plate                    time\n",
       "1301320  6FCH845  11/01/2012 09:04:00 AM\n",
       "1369630  6FCH845  10/24/2012 11:15:00 AM\n",
       "1369854  6FCH845  10/24/2012 11:01:00 AM\n",
       "1369967  6FCH845  10/24/2012 10:20:00 AM\n",
       "2242582  6FCH845  05/08/2014 07:30:00 PM\n",
       "2648779  6FCH845  12/31/2013 10:09:00 AM"
      ]
     },
     "execution_count": 49,
     "metadata": {},
     "output_type": "execute_result"
    }
   ],
   "source": [
    "df.loc[df['plate'] == '6FCH845', ['plate', 'time']]"
   ]
  },
  {
   "cell_type": "code",
   "execution_count": null,
   "metadata": {},
   "outputs": [],
   "source": []
  },
  {
   "cell_type": "markdown",
   "metadata": {},
   "source": [
    "## Making plots"
   ]
  },
  {
   "cell_type": "code",
   "execution_count": 46,
   "metadata": {},
   "outputs": [
    {
     "data": {
      "text/html": [
       "<div>\n",
       "<style scoped>\n",
       "    .dataframe tbody tr th:only-of-type {\n",
       "        vertical-align: middle;\n",
       "    }\n",
       "\n",
       "    .dataframe tbody tr th {\n",
       "        vertical-align: top;\n",
       "    }\n",
       "\n",
       "    .dataframe thead th {\n",
       "        text-align: right;\n",
       "    }\n",
       "</style>\n",
       "<table border=\"1\" class=\"dataframe\">\n",
       "  <thead>\n",
       "    <tr style=\"text-align: right;\">\n",
       "      <th></th>\n",
       "      <th>lat</th>\n",
       "      <th>lon</th>\n",
       "    </tr>\n",
       "  </thead>\n",
       "  <tbody>\n",
       "    <tr>\n",
       "      <th>0</th>\n",
       "      <td>37.8</td>\n",
       "      <td>-122.28</td>\n",
       "    </tr>\n",
       "    <tr>\n",
       "      <th>1</th>\n",
       "      <td>37.8</td>\n",
       "      <td>-122.28</td>\n",
       "    </tr>\n",
       "    <tr>\n",
       "      <th>2</th>\n",
       "      <td>37.8</td>\n",
       "      <td>-122.28</td>\n",
       "    </tr>\n",
       "    <tr>\n",
       "      <th>...</th>\n",
       "      <td>...</td>\n",
       "      <td>...</td>\n",
       "    </tr>\n",
       "    <tr>\n",
       "      <th>2742098</th>\n",
       "      <td>37.8</td>\n",
       "      <td>-122.28</td>\n",
       "    </tr>\n",
       "    <tr>\n",
       "      <th>2742099</th>\n",
       "      <td>37.8</td>\n",
       "      <td>-122.28</td>\n",
       "    </tr>\n",
       "    <tr>\n",
       "      <th>2742100</th>\n",
       "      <td>37.8</td>\n",
       "      <td>-122.28</td>\n",
       "    </tr>\n",
       "  </tbody>\n",
       "</table>\n",
       "<p>2742101 rows × 2 columns</p>\n",
       "</div>"
      ],
      "text/plain": [
       "          lat     lon\n",
       "0        37.8 -122.28\n",
       "1        37.8 -122.28\n",
       "2        37.8 -122.28\n",
       "...       ...     ...\n",
       "2742098  37.8 -122.28\n",
       "2742099  37.8 -122.28\n",
       "2742100  37.8 -122.28\n",
       "\n",
       "[2742101 rows x 2 columns]"
      ]
     },
     "execution_count": 46,
     "metadata": {},
     "output_type": "execute_result"
    }
   ],
   "source": [
    "locations = (df['location']\n",
    " .str.strip('()')\n",
    " .str.split(', ', expand=True)\n",
    " .rename(columns={0: 'lat', 1: 'lon'})\n",
    " .assign(lat=lambda df: df['lat'].astype(float))\n",
    " .assign(lon=lambda df: df['lon'].astype(float))\n",
    ")\n",
    "locations"
   ]
  },
  {
   "cell_type": "code",
   "execution_count": 47,
   "metadata": {},
   "outputs": [
    {
     "data": {
      "text/html": [
       "<div>\n",
       "<style scoped>\n",
       "    .dataframe tbody tr th:only-of-type {\n",
       "        vertical-align: middle;\n",
       "    }\n",
       "\n",
       "    .dataframe tbody tr th {\n",
       "        vertical-align: top;\n",
       "    }\n",
       "\n",
       "    .dataframe thead th {\n",
       "        text-align: right;\n",
       "    }\n",
       "</style>\n",
       "<table border=\"1\" class=\"dataframe\">\n",
       "  <thead>\n",
       "    <tr style=\"text-align: right;\">\n",
       "      <th></th>\n",
       "      <th>plate</th>\n",
       "      <th>time</th>\n",
       "      <th>lat</th>\n",
       "      <th>lon</th>\n",
       "    </tr>\n",
       "  </thead>\n",
       "  <tbody>\n",
       "    <tr>\n",
       "      <th>0</th>\n",
       "      <td>1275226</td>\n",
       "      <td>01/19/2011 02:06:00 AM</td>\n",
       "      <td>37.8</td>\n",
       "      <td>-122.28</td>\n",
       "    </tr>\n",
       "    <tr>\n",
       "      <th>1</th>\n",
       "      <td>27529C</td>\n",
       "      <td>01/19/2011 02:06:00 AM</td>\n",
       "      <td>37.8</td>\n",
       "      <td>-122.28</td>\n",
       "    </tr>\n",
       "    <tr>\n",
       "      <th>2</th>\n",
       "      <td>1158423</td>\n",
       "      <td>01/19/2011 02:06:00 AM</td>\n",
       "      <td>37.8</td>\n",
       "      <td>-122.28</td>\n",
       "    </tr>\n",
       "    <tr>\n",
       "      <th>...</th>\n",
       "      <td>...</td>\n",
       "      <td>...</td>\n",
       "      <td>...</td>\n",
       "      <td>...</td>\n",
       "    </tr>\n",
       "    <tr>\n",
       "      <th>2742098</th>\n",
       "      <td>5X10319</td>\n",
       "      <td>12/19/2013 08:28:00 PM</td>\n",
       "      <td>37.8</td>\n",
       "      <td>-122.28</td>\n",
       "    </tr>\n",
       "    <tr>\n",
       "      <th>2742099</th>\n",
       "      <td>7D56240</td>\n",
       "      <td>12/19/2013 08:28:00 PM</td>\n",
       "      <td>37.8</td>\n",
       "      <td>-122.28</td>\n",
       "    </tr>\n",
       "    <tr>\n",
       "      <th>2742100</th>\n",
       "      <td>6JNM127</td>\n",
       "      <td>12/19/2013 08:28:00 PM</td>\n",
       "      <td>37.8</td>\n",
       "      <td>-122.28</td>\n",
       "    </tr>\n",
       "  </tbody>\n",
       "</table>\n",
       "<p>2720323 rows × 4 columns</p>\n",
       "</div>"
      ],
      "text/plain": [
       "           plate                    time   lat     lon\n",
       "0        1275226  01/19/2011 02:06:00 AM  37.8 -122.28\n",
       "1         27529C  01/19/2011 02:06:00 AM  37.8 -122.28\n",
       "2        1158423  01/19/2011 02:06:00 AM  37.8 -122.28\n",
       "...          ...                     ...   ...     ...\n",
       "2742098  5X10319  12/19/2013 08:28:00 PM  37.8 -122.28\n",
       "2742099  7D56240  12/19/2013 08:28:00 PM  37.8 -122.28\n",
       "2742100  6JNM127  12/19/2013 08:28:00 PM  37.8 -122.28\n",
       "\n",
       "[2720323 rows x 4 columns]"
      ]
     },
     "execution_count": 47,
     "metadata": {},
     "output_type": "execute_result"
    }
   ],
   "source": [
    "df_clean = (\n",
    "    df.assign(lat=locations['lat'], lon=locations['lon'])\n",
    "    .drop(columns=['location'])\n",
    "    .query('lon < -122.1 & lon > -122.3')\n",
    ")\n",
    "df_clean"
   ]
  },
  {
   "cell_type": "code",
   "execution_count": 23,
   "metadata": {},
   "outputs": [
    {
     "data": {
      "text/plain": [
       "array([[<matplotlib.axes._subplots.AxesSubplot object at 0x1a70593710>]],\n",
       "      dtype=object)"
      ]
     },
     "execution_count": 23,
     "metadata": {},
     "output_type": "execute_result"
    },
    {
     "data": {
      "image/png": "[encoded data removed]",
      "text/plain": [
       "<Figure size 432x288 with 1 Axes>"
      ]
     },
     "metadata": {
      "needs_background": "light"
     },
     "output_type": "display_data"
    }
   ],
   "source": [
    "df_clean.hist('lon', bins=40)"
   ]
  },
  {
   "cell_type": "code",
   "execution_count": null,
   "metadata": {},
   "outputs": [],
   "source": []
  },
  {
   "cell_type": "code",
   "execution_count": null,
   "metadata": {},
   "outputs": [],
   "source": []
  }
 ],
 "metadata": {
  "kernelspec": {
   "display_name": "Python 3",
   "language": "python",
   "name": "python3"
  },
  "language_info": {
   "codemirror_mode": {
    "name": "ipython",
    "version": 3
   },
   "file_extension": ".py",
   "mimetype": "text/x-python",
   "name": "python",
   "nbconvert_exporter": "python",
   "pygments_lexer": "ipython3",
   "version": "3.7.1"
  }
 },
 "nbformat": 4,
 "nbformat_minor": 2
}
